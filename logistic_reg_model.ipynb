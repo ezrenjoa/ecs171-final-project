{
 "cells": [
  {
   "cell_type": "code",
   "execution_count": 7,
   "id": "56d13474-afff-437d-bb5e-2fc522435781",
   "metadata": {},
   "outputs": [],
   "source": [
    "import numpy as np\n",
    "import pandas as pd\n",
    "from sklearn.preprocessing import binarize\n",
    "\n",
    "data = pd.read_csv('covtype.csv')\n",
    "\n",
    "data['Horizontal_Distance_To_Fire_Points'] = binarize(data.get('Horizontal_Distance_To_Fire_Points').to_frame(), threshold=1600)\n",
    "\n",
    "subset13 = data[(data['Wilderness_Area1'] == 1) & (data['Wilderness_Area3'] == 1)] # FIXME: correct syntax? sloppy?\n",
    "subset24 = data[(data['Wilderness_Area2'] == 1) & (data['Wilderness_Area4'] == 1)]\n",
    "\n",
    "\n"
   ]
  },
  {
   "cell_type": "code",
   "execution_count": null,
   "id": "daa12018-271c-44a6-81dd-ddf8a9f60bfd",
   "metadata": {},
   "outputs": [],
   "source": []
  }
 ],
 "metadata": {
  "kernelspec": {
   "display_name": "Python 3 (ipykernel)",
   "language": "python",
   "name": "python3"
  },
  "language_info": {
   "codemirror_mode": {
    "name": "ipython",
    "version": 3
   },
   "file_extension": ".py",
   "mimetype": "text/x-python",
   "name": "python",
   "nbconvert_exporter": "python",
   "pygments_lexer": "ipython3",
   "version": "3.12.2"
  }
 },
 "nbformat": 4,
 "nbformat_minor": 5
}
