{
 "cells": [
  {
   "cell_type": "code",
   "execution_count": 2,
   "id": "56d13474-afff-437d-bb5e-2fc522435781",
   "metadata": {},
   "outputs": [
    {
     "name": "stdout",
     "output_type": "stream",
     "text": [
      "              precision    recall  f1-score   support\n",
      "\n",
      "           0       0.68      0.58      0.62     67233\n",
      "           1       0.68      0.77      0.72     78020\n",
      "\n",
      "    accuracy                           0.68    145253\n",
      "   macro avg       0.68      0.67      0.67    145253\n",
      "weighted avg       0.68      0.68      0.67    145253\n",
      "\n"
     ]
    },
    {
     "name": "stderr",
     "output_type": "stream",
     "text": [
      "C:\\Users\\k4734\\AppData\\Local\\Programs\\Python\\Python312\\Lib\\site-packages\\sklearn\\linear_model\\_logistic.py:465: ConvergenceWarning: lbfgs failed to converge (status=1):\n",
      "STOP: TOTAL NO. OF ITERATIONS REACHED LIMIT.\n",
      "\n",
      "Increase the number of iterations (max_iter) or scale the data as shown in:\n",
      "    https://scikit-learn.org/stable/modules/preprocessing.html\n",
      "Please also refer to the documentation for alternative solver options:\n",
      "    https://scikit-learn.org/stable/modules/linear_model.html#logistic-regression\n",
      "  n_iter_i = _check_optimize_result(\n"
     ]
    }
   ],
   "source": [
    "import numpy as np\n",
    "import pandas as pd\n",
    "from sklearn.preprocessing import binarize, MinMaxScaler\n",
    "from sklearn.model_selection import train_test_split\n",
    "from sklearn.linear_model import LogisticRegression\n",
    "from sklearn.metrics import classification_report\n",
    "\n",
    "data = pd.read_csv('covtype.csv')\n",
    "\n",
    "data['Horizontal_Distance_To_Fire_Points'] = binarize(data.get('Horizontal_Distance_To_Fire_Points').to_frame(), threshold=1600)\n",
    "\n",
    "subset13 = data[~(data['Wilderness_Area2'] == 2) & ~(data['Wilderness_Area4'] == 4)]\n",
    "subset24 = data[~(data['Wilderness_Area1'] == 1) & ~(data['Wilderness_Area3'] == 3)]\n",
    "\n",
    "scaler = MinMaxScaler()\n",
    "X13 = subset13.drop(columns=['Horizontal_Distance_To_Fire_Points'])\n",
    "Y13 = subset13['Horizontal_Distance_To_Fire_Points']\n",
    "X13 = scaler.fit_transform(X13)\n",
    "\n",
    "X13_train, X13_test, Y13_train, Y13_test = train_test_split(X13, Y13)\n",
    "\n",
    "reg13 = LogisticRegression().fit(X13_train, Y13_train)\n",
    "Y13_predict = reg13.predict(X13_test)\n",
    "\n",
    "print(classification_report(Y13_test, Y13_predict))"
   ]
  },
  {
   "cell_type": "code",
   "execution_count": 3,
   "id": "daa12018-271c-44a6-81dd-ddf8a9f60bfd",
   "metadata": {},
   "outputs": [
    {
     "name": "stdout",
     "output_type": "stream",
     "text": [
      "              precision    recall  f1-score   support\n",
      "\n",
      "           0       0.70      0.77      0.73     47773\n",
      "           1       0.60      0.51      0.55     32281\n",
      "\n",
      "    accuracy                           0.66     80054\n",
      "   macro avg       0.65      0.64      0.64     80054\n",
      "weighted avg       0.66      0.66      0.66     80054\n",
      "\n"
     ]
    }
   ],
   "source": [
    "X24 = subset24.drop(columns=['Horizontal_Distance_To_Fire_Points'])\n",
    "Y24 = subset24['Horizontal_Distance_To_Fire_Points']\n",
    "X24 = scaler.fit_transform(X24)\n",
    "\n",
    "X24_train, X24_test, Y24_train, Y24_test = train_test_split(X24, Y24)\n",
    "\n",
    "reg24 = LogisticRegression().fit(X24_train, Y24_train)\n",
    "Y24_predict = reg24.predict(X24_test)\n",
    "\n",
    "print(classification_report(Y24_test, Y24_predict))"
   ]
  },
  {
   "cell_type": "code",
   "execution_count": null,
   "id": "eb495362-77ae-49c1-81c7-da76735f9a09",
   "metadata": {},
   "outputs": [],
   "source": []
  }
 ],
 "metadata": {
  "kernelspec": {
   "display_name": "Python 3 (ipykernel)",
   "language": "python",
   "name": "python3"
  },
  "language_info": {
   "codemirror_mode": {
    "name": "ipython",
    "version": 3
   },
   "file_extension": ".py",
   "mimetype": "text/x-python",
   "name": "python",
   "nbconvert_exporter": "python",
   "pygments_lexer": "ipython3",
   "version": "3.12.2"
  }
 },
 "nbformat": 4,
 "nbformat_minor": 5
}
